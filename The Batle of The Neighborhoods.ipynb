{
    "cells": [
        {
            "cell_type": "markdown",
            "metadata": {
                "collapsed": true
            },
            "source": "### _The Battle of Neighborhoods_\n# Find the Best Spot to build a warehouse in London"
        },
        {
            "cell_type": "markdown",
            "metadata": {},
            "source": "![alt text][logo]\n\n[logo]: https://pngimage.net/wp-content/uploads/2018/06/png-london-1.png \"Logo Title Text 2\""
        },
        {
            "cell_type": "markdown",
            "metadata": {},
            "source": "### Business Model - Project Charter"
        },
        {
            "cell_type": "markdown",
            "metadata": {},
            "source": " London is known by its warehouse rents. The following case study will cover this matter: the best spot for a warehouse. Most of the companies rent warehouses, it ends up being cheaper, faster and not a permanent decision which gives them flexibility. Although, this case is different and that's why it makes sense to involve a data scientist. \n Our manager wants to create from its beginning a building in London...a warehouse that fulfill all their needs. The general location as you saw is already chosen. But there's still a huge job to be done in order to complete the process. Being this a permanent building for the factory, it will be time consuming and expensive, so let's take that into consideration when choosing the best spot. Because after that, there's no way back. They're counting on us. \n The criteria will be the following - a small note from the CEO says that secutiry will be always the first criteria so let's give a highligh on that one."
        },
        {
            "cell_type": "markdown",
            "metadata": {},
            "source": "| Criteria      |        Features    |   |\n| ------------- |:-------------:| -----:|\n| Security      | Safe |  |\n| Environment      | calm (preferencially surrounded by nature)     |   |\n| Population | far from crowded areas   |    |"
        },
        {
            "cell_type": "markdown",
            "metadata": {},
            "source": "### Data Section"
        },
        {
            "cell_type": "markdown",
            "metadata": {},
            "source": "In this case study, I will be using the following datasets to help solving the factory's problem \nLet's have a look at them."
        },
        {
            "cell_type": "markdown",
            "metadata": {},
            "source": "  * London Boroughs list: use to check the potential boroughs in London and its features   \n  * Foursquare API: to relate the most popular spots in London  \n  * London Recorded Crime: To understand the security or lack of security of each zone.  "
        },
        {
            "cell_type": "code",
            "execution_count": null,
            "metadata": {},
            "outputs": [],
            "source": ""
        }
    ],
    "metadata": {
        "kernelspec": {
            "display_name": "Python 3.6",
            "language": "python",
            "name": "python3"
        },
        "language_info": {
            "codemirror_mode": {
                "name": "ipython",
                "version": 3
            },
            "file_extension": ".py",
            "mimetype": "text/x-python",
            "name": "python",
            "nbconvert_exporter": "python",
            "pygments_lexer": "ipython3",
            "version": "3.6.9"
        }
    },
    "nbformat": 4,
    "nbformat_minor": 1
}